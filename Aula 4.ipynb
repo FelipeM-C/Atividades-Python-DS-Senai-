{
 "cells": [
  {
   "cell_type": "markdown",
   "id": "ea882c66",
   "metadata": {},
   "source": [
    "# Estrutura condicional\n",
    "\n",
    "<h2>vamos testar o if </h2>"
   ]
  },
  {
   "cell_type": "code",
   "execution_count": 5,
   "id": "4b98fbc3",
   "metadata": {},
   "outputs": [
    {
     "name": "stdout",
     "output_type": "stream",
     "text": [
      "Você não pode tirar CNH\n",
      "Fim do programa\n"
     ]
    }
   ],
   "source": [
    "# Exemplo de que a condição é verdadeira\n",
    "\n",
    "idade = int(input(\"Qual a sua idade?:\"))\n",
    "\n",
    "if idade >= 18:\n",
    "    print(\"idade suficiente para CNH\")\n",
    "\n",
    "elif idade <18:\n",
    "    print(\"Você não pode tirar CNH\")\n",
    "\n",
    "print(\"Fim do programa\")"
   ]
  }
 ],
 "metadata": {
  "kernelspec": {
   "display_name": "venv",
   "language": "python",
   "name": "python3"
  },
  "language_info": {
   "codemirror_mode": {
    "name": "ipython",
    "version": 3
   },
   "file_extension": ".py",
   "mimetype": "text/x-python",
   "name": "python",
   "nbconvert_exporter": "python",
   "pygments_lexer": "ipython3",
   "version": "3.13.2"
  }
 },
 "nbformat": 4,
 "nbformat_minor": 5
}
