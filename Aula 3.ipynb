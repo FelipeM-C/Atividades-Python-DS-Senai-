{
 "cells": [
  {
   "cell_type": "markdown",
   "id": "513f7a0b-6fc1-4faa-b83d-9fcc3b58934c",
   "metadata": {},
   "source": [
    "# Operadores de comparação\n",
    "\n",
    "Faça um programa para a leitura quatro notas. O programa deve calcular a média por aluno e apresentar: \n",
    "\n",
    "1- Mensagem de aprovado se a média for maior ou igual a 7\n",
    "2- mensagem  de reprovado se a média for menor que 7\n",
    "3- mensagem de aprovado com nota maxima se a média  for igual a 10"
   ]
  },
  {
   "cell_type": "code",
   "execution_count": 3,
   "id": "7a5d8839-8823-484e-8375-031dd20bc7c9",
   "metadata": {},
   "outputs": [
    {
     "name": "stdin",
     "output_type": "stream",
     "text": [
      "Qual sua nota do primeiro bimestre? 6\n",
      "Qual sua nota do segundo bimestre? 6\n",
      "Qual sua nota do terceiro bimestre? 3\n",
      "Qual sua nota do quarto bimestre? 8\n"
     ]
    },
    {
     "name": "stdout",
     "output_type": "stream",
     "text": [
      "Sua média final é: 5.75\n",
      "Reprovado\n"
     ]
    }
   ],
   "source": [
    "Nota1 = int(input(\"Qual sua nota do primeiro bimestre?\"))\n",
    "Nota2 = int(input(\"Qual sua nota do segundo bimestre?\"))\n",
    "Nota3 = int(input(\"Qual sua nota do terceiro bimestre?\"))\n",
    "Nota4 = int(input(\"Qual sua nota do quarto bimestre?\"))\n",
    "\n",
    "media = (Nota1 + Nota2 + Nota3 + Nota4)/4\n",
    "print(\"Sua média final é:\",media)\n",
    "\n",
    "if media<6:\n",
    "    print(\"Reprovado\")\n",
    "\n",
    "elif media>7:\n",
    "    print(\"Aprovado\")\n",
    "\n",
    "elif media ==10:\n",
    "    print(\"Aprovado com nota maxima\")"
   ]
  },
  {
   "cell_type": "markdown",
   "id": "8981ddfd-172c-4ba0-a00a-47c361d1c8fd",
   "metadata": {},
   "source": [
    "# Desafio 2\n",
    "\n",
    "um programa que leia três numeros e mostre o maior e o menor deles"
   ]
  },
  {
   "cell_type": "code",
   "execution_count": null,
   "id": "c405e2d1-1f27-45ec-9c8a-3c50c2d5c6c1",
   "metadata": {},
   "outputs": [],
   "source": []
  }
 ],
 "metadata": {
  "kernelspec": {
   "display_name": "Python 3 (ipykernel)",
   "language": "python",
   "name": "python3"
  },
  "language_info": {
   "codemirror_mode": {
    "name": "ipython",
    "version": 3
   },
   "file_extension": ".py",
   "mimetype": "text/x-python",
   "name": "python",
   "nbconvert_exporter": "python",
   "pygments_lexer": "ipython3",
   "version": "3.13.2"
  }
 },
 "nbformat": 4,
 "nbformat_minor": 5
}
