{
 "cells": [
  {
   "cell_type": "code",
   "execution_count": null,
   "id": "9b8bb8ea",
   "metadata": {},
   "outputs": [],
   "source": [
    "import numpy as np\n",
    "\n",
    "print(\"Versão do Nunpy\" , np.version.version)"
   ]
  },
  {
   "cell_type": "markdown",
   "id": "924f3191",
   "metadata": {},
   "source": [
    "# Manipulação em linhas e colunas:"
   ]
  },
  {
   "cell_type": "code",
   "execution_count": null,
   "id": "ef3b5ad1",
   "metadata": {},
   "outputs": [],
   "source": [
    "a = np.array([[1, 2, 3, 4, 5, 6, 7] , [8, 9 , 1 , 2, 3, 4, 5]])\n",
    "\n",
    "print(a)\n",
    "print(\"Shape do meu array 2d\" , a.shape)\n",
    "a[0 , 3] \n",
    "# Para pegar um item específico, utilizamos a notação [Linha , Coluna]\n",
    "#Lembrando que na programação, temos que começar contando do ZERO, então no exeplo temos:\n",
    "#Linha 0 e 1\n",
    "#Coluna de 0 a 6"
   ]
  },
  {
   "cell_type": "code",
   "execution_count": null,
   "id": "8092b409",
   "metadata": {},
   "outputs": [],
   "source": [
    "#para pegar a segunda linha, por exemplo:\n",
    "a[1]"
   ]
  },
  {
   "cell_type": "code",
   "execution_count": null,
   "id": "89a95e79",
   "metadata": {},
   "outputs": [],
   "source": [
    "#notação negatica\n",
    "a[1 , -1]"
   ]
  },
  {
   "cell_type": "code",
   "execution_count": null,
   "id": "8a28478c",
   "metadata": {},
   "outputs": [],
   "source": [
    "print(a)\n",
    "# Pegar coluna específica\n",
    "a[2 , :]"
   ]
  },
  {
   "cell_type": "code",
   "execution_count": null,
   "id": "37b0345e",
   "metadata": {},
   "outputs": [],
   "source": [
    "# Metodo de slicing, de listas, tambem funciona no array\n",
    "\n",
    "#[Start_index:end_index] -> step não é obrigatório\n",
    "# // caso não queiramos adicionar o end index, é só colocar :\n",
    "\n",
    "print(a)\n",
    "\n",
    "a[0 , 5:]"
   ]
  },
  {
   "cell_type": "code",
   "execution_count": null,
   "id": "a138a92c",
   "metadata": {},
   "outputs": [],
   "source": [
    "a [0, 1::2] #Pula de 2 em 2"
   ]
  },
  {
   "cell_type": "markdown",
   "id": "a14d7d6e",
   "metadata": {},
   "source": [
    "# Desafios\n",
    "\n",
    "Atividades: array, nupy 1d, 2d, shape e fatiamento\n",
    "\n",
    "# 1. Array  1D <br>\n",
    "\n",
    "a) crie um array numpy chamado 'Vetor' com os números de 10 a 50 de 10 em 10\n",
    "\n",
    "\n",
    "b) imprimr o array\n",
    "\n",
    "\n",
    "c) imprima o tamanho (Shape) desse array\n",
    "\n",
    "\n",
    "d) imprima apenas os 3 primeiros elementos usando slicing\n",
    "\n",
    "\n",
    "e) imprima os 2 ultimos elementos usando slicing"
   ]
  },
  {
   "cell_type": "code",
   "execution_count": 42,
   "id": "a74ef34b",
   "metadata": {},
   "outputs": [
    {
     "name": "stdout",
     "output_type": "stream",
     "text": [
      "[10 20 30 40 50]\n",
      "O shape do array é: (5,)\n",
      "Os tres primeiros elementos é [10 20 30]\n",
      "Os dois ultimos elementos são: [40 50]\n"
     ]
    }
   ],
   "source": [
    "import numpy as np\n",
    "\n",
    "Vetor = np.array([10 , 20 , 30 , 40 , 50])\n",
    "\n",
    "print(Vetor)\n",
    "print('O shape do array é:', Vetor.shape)\n",
    "\n",
    "print(\"Os tres primeiros elementos é\", Vetor[:3])\n",
    "\n",
    "print('Os dois ultimos elementos são:', Vetor[3:])"
   ]
  },
  {
   "cell_type": "markdown",
   "id": "296994a2",
   "metadata": {},
   "source": [
    "# 2. Array 2D\n",
    "\n",
    "A) Crie um array chamado \"Matriz\" com duas linhas : a primeira [1, 2, 3] e a segunda [4, 5, 6]\n",
    "\n",
    "\n",
    "B) Imprima o array\n",
    "\n",
    "\n",
    "C) Imprima o shape da matriz\n",
    "\n",
    "\n",
    "D) imprima apenas a segunda linha da matriz\n",
    "\n",
    "\n",
    "E) Imprima apenas o elemento da primeira linha e a terceira coluna"
   ]
  },
  {
   "cell_type": "code",
   "execution_count": 51,
   "id": "5a9e467b",
   "metadata": {},
   "outputs": [
    {
     "name": "stdout",
     "output_type": "stream",
     "text": [
      "[[1 2 3]\n",
      " [4 5 6]]\n",
      "\n",
      "O shape da matriz é: (2, 3)\n",
      "\n",
      "[4 5 6]\n",
      "\n",
      "3\n"
     ]
    }
   ],
   "source": [
    "import numpy as np\n",
    "\n",
    "Matriz = np.array([[1, 2, 3] , [4, 5, 6]])\n",
    "\n",
    "print(Matriz)\n",
    "print()\n",
    "\n",
    "print(\"O shape da matriz é:\", Matriz.shape)\n",
    "print()\n",
    "\n",
    "print(Matriz[1, :])\n",
    "print()\n",
    "\n",
    "print(Matriz[0, 2])\n",
    "\n"
   ]
  }
 ],
 "metadata": {
  "kernelspec": {
   "display_name": ".venv",
   "language": "python",
   "name": "python3"
  },
  "language_info": {
   "codemirror_mode": {
    "name": "ipython",
    "version": 3
   },
   "file_extension": ".py",
   "mimetype": "text/x-python",
   "name": "python",
   "nbconvert_exporter": "python",
   "pygments_lexer": "ipython3",
   "version": "3.13.2"
  }
 },
 "nbformat": 4,
 "nbformat_minor": 5
}
