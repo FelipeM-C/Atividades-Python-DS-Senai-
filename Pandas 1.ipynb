{
 "cells": [
  {
   "cell_type": "markdown",
   "id": "b3d7e13c",
   "metadata": {},
   "source": [
    "# O que são pandas?\n",
    "\n",
    "A blibioteca Pandas se baseiam em duas estruturas de dados\n",
    "\n",
    "- Séries (Series) é uma estrutura de dados unidimencional  (1D) rotulada. Pode ser usada como uma coluna de uma tabela, um array numpy unidimencional com rótolos (Ímdices) ou uma coluna de um DataFrame.\n",
    "\n",
    "- **DataFrame: É a principal estruturas de dados do Pandas. Representa uma tabela bidimensional de  dados, onde as linhas geralmente representam as váriaveis."
   ]
  },
  {
   "cell_type": "code",
   "execution_count": null,
   "id": "b7aa00d6",
   "metadata": {},
   "outputs": [],
   "source": [
    "# Antes de iportar o modulo pandas, é nescessario instalar ele\n",
    "\n",
    "! pip show pandas"
   ]
  },
  {
   "cell_type": "code",
   "execution_count": null,
   "id": "493f089f",
   "metadata": {},
   "outputs": [],
   "source": [
    "import pandas as pd\n",
    "import numpy as np"
   ]
  },
  {
   "cell_type": "markdown",
   "id": "0de6414d",
   "metadata": {},
   "source": [
    "# Criando uma série\n",
    "\n",
    "Criando objetos series vazio, invocando o método Series"
   ]
  },
  {
   "cell_type": "code",
   "execution_count": null,
   "id": "1e0b66fe",
   "metadata": {},
   "outputs": [],
   "source": [
    "# Objetos Séries vazio\n",
    "\n",
    "serie = pd.Series()\n",
    "\n",
    "print('Tipo:', type(serie))\n",
    "\n",
    "print(serie)"
   ]
  },
  {
   "cell_type": "markdown",
   "id": "f748c051",
   "metadata": {},
   "source": [
    "Podemos converter para uma série:\n",
    "\n",
    "- Listas\n",
    "- Numpy array\n",
    "- Dicionário"
   ]
  },
  {
   "cell_type": "code",
   "execution_count": null,
   "id": "d704d51f",
   "metadata": {},
   "outputs": [],
   "source": [
    "labels = [\"A\", \"B\", \"C\"] #Lista de strings\n",
    "\n",
    "minha_lista = [10, 20, 30] # Lista de inteios\n",
    "\n",
    "arr = np.array([10 , 20 , 30]) #Array com numpy\n",
    "\n",
    "d = {\"A\" : 10, \"B\": 20, \"C\": 30} # Discionário com Chaves e Valores"
   ]
  },
  {
   "cell_type": "markdown",
   "id": "8fe8724c",
   "metadata": {},
   "source": [
    "# Usando listas"
   ]
  },
  {
   "cell_type": "code",
   "execution_count": null,
   "id": "61c2d9ad",
   "metadata": {},
   "outputs": [],
   "source": [
    "pd.Series(minha_lista)"
   ]
  },
  {
   "cell_type": "markdown",
   "id": "b5131cec",
   "metadata": {},
   "source": [
    "Com requencia prescisamos criar uma series com um indice, que vai identiicar cada ponto de um dado, com um rotulo.\n",
    "Neste caso passamos o parametro index = [] contendo uma lista de valores, que serão utilizadas como indice"
   ]
  },
  {
   "cell_type": "code",
   "execution_count": null,
   "id": "5428a367",
   "metadata": {},
   "outputs": [],
   "source": [
    "print(\"minha_lista é:\", minha_lista)\n",
    "print('Meus rotulos:' , labels)\n",
    "\n",
    "pd.Series(data = minha_lista , index = labels)"
   ]
  },
  {
   "cell_type": "code",
   "execution_count": null,
   "id": "f7686377",
   "metadata": {},
   "outputs": [],
   "source": [
    "pd.Series(minha_lista , labels)"
   ]
  },
  {
   "cell_type": "code",
   "execution_count": null,
   "id": "1f04eeb6",
   "metadata": {},
   "outputs": [],
   "source": [
    "ind = pd.Series([12 , 34 , 21 , -9 , 0 , 7] , index = ['A' , 'B' , 'C' , 'D' , 'E' , 'F'])\n",
    "\n",
    "print(ind)"
   ]
  },
  {
   "cell_type": "markdown",
   "id": "86a76893",
   "metadata": {},
   "source": [
    "# Numpy array"
   ]
  },
  {
   "cell_type": "code",
   "execution_count": null,
   "id": "2d1fc965",
   "metadata": {},
   "outputs": [],
   "source": [
    "print(\"Meu Array é:\" , arr)\n",
    "\n",
    "pd.Series(arr)"
   ]
  },
  {
   "cell_type": "code",
   "execution_count": null,
   "id": "ba3a4f81",
   "metadata": {},
   "outputs": [],
   "source": [
    "print(\"Meu array:\" , arr)\n",
    "print(\"Meus rotulos são:\" , labels)\n",
    "\n",
    "pd.Series(arr , labels)"
   ]
  },
  {
   "cell_type": "markdown",
   "id": "645fc3c8",
   "metadata": {},
   "source": [
    "# Dicionários"
   ]
  },
  {
   "cell_type": "code",
   "execution_count": null,
   "id": "8b2a5031",
   "metadata": {},
   "outputs": [],
   "source": [
    "print(\"Meu dicionário:\" , d)\n",
    "pd.Series(d)"
   ]
  },
  {
   "cell_type": "code",
   "execution_count": null,
   "id": "d65c382b",
   "metadata": {},
   "outputs": [],
   "source": [
    "dic = {\n",
    "    'Brasil': 5 , \n",
    "    \"EUA\": 0 , \n",
    "    \"Inglaterra\": 1 , \n",
    "    \"Argentina\": 3\n",
    "}\n",
    "\n",
    "pd.Series(dic)"
   ]
  },
  {
   "cell_type": "markdown",
   "id": "79f6e4ea",
   "metadata": {},
   "source": [
    "# Desafio 1\n",
    "\n",
    "- Crie uma série chamada s_num a partir de uma lista python 5, 10, 15, 20, 25. Imprima a série\n",
    "\n",
    "- Crie uma série chamada s_fruit apartir de uma lista maçã, banana, cereja, mas usem os indices A , B , C. e por fim imprima a série\n",
    "\n",
    "- Crie uma série chamada s_cap, a partir de um dicionário, Brasil : Brasilia , França : Paris , japão : Toquio. Imprima a série"
   ]
  },
  {
   "cell_type": "code",
   "execution_count": null,
   "id": "b47db07c",
   "metadata": {},
   "outputs": [],
   "source": [
    "s_num = (5 , 10 , 15 , 20 , 25)\n",
    "s_fruit = (\"maçã\" , \"Banana\" , \"Cereja\")\n",
    "s_cap = {'Brasil' : 'Brasilia'\n",
    "          , 'França' : 'Paris' \n",
    "          , 'japão' : 'Toquio'}\n",
    "\n",
    "cap = pd.Series(s_cap)\n",
    "\n",
    "print(\"A Lista de numeros:\" , pd.Series(s_num))\n",
    "print(\"\")\n",
    "\n",
    "print(\"A lista de Frutas:\" , pd.Series(s_fruit , ['A' , 'B' , 'C']))\n",
    "print(\"\")\n",
    "\n",
    "print(\"As capitais são:\" , pd.Series(s_cap))\n",
    "print('')"
   ]
  },
  {
   "cell_type": "markdown",
   "id": "292bf8c9",
   "metadata": {},
   "source": [
    "# Valores e Índices\n",
    "\n",
    "A compreensão de índice é essencial para trabalhar eficientemente com uma série. No pandas, esses índices (Que podem ser numeros ou nomes) possibilitam a localzação rápida e prescisa dos dados desejados."
   ]
  },
  {
   "cell_type": "code",
   "execution_count": null,
   "id": "cab5d6d5",
   "metadata": {},
   "outputs": [],
   "source": [
    "dados = pd.Series(dic)"
   ]
  },
  {
   "cell_type": "code",
   "execution_count": null,
   "id": "c4b9335a",
   "metadata": {},
   "outputs": [],
   "source": [
    "print('O que temos na série \\n')\n",
    "print(dados)\n",
    "print()\n",
    "print('Valores:' , dados.values)\n",
    "print('indices: ' , dados.index)"
   ]
  },
  {
   "cell_type": "code",
   "execution_count": null,
   "id": "0b08ff4f",
   "metadata": {},
   "outputs": [],
   "source": [
    "print(dados.loc[\"Brasil\"]) # O 'Loc' fala o index\n",
    "print(dados.iloc[2]) # O \"iloc\" fala o print"
   ]
  },
  {
   "cell_type": "code",
   "execution_count": null,
   "id": "4b324b78",
   "metadata": {},
   "outputs": [],
   "source": [
    "print('Dados :' , dados.values)\n",
    "print(\"Indice :\" , dados.index)"
   ]
  },
  {
   "cell_type": "code",
   "execution_count": null,
   "id": "310ca74b",
   "metadata": {},
   "outputs": [],
   "source": [
    "print(dados[1:3])"
   ]
  },
  {
   "cell_type": "markdown",
   "id": "1c33c260",
   "metadata": {},
   "source": [
    "# Desafio 2 (use as series criadas no Exec 1):\n",
    "\n",
    "- Acesse e imprima o terceiro elemento da Série s_num\n",
    "\n",
    "\n",
    "- Acesse e imprima o elemento com o rotulo \"B\" da Série_fruit\n",
    "\n",
    "\n",
    "- Acesse e imprima o valor associado á chave \"França\" na Séries s_cap\n",
    "\n",
    "- Acesse e imprima os 2 primeiros elementos da Séries_num usando slice"
   ]
  },
  {
   "cell_type": "code",
   "execution_count": null,
   "id": "99060626",
   "metadata": {},
   "outputs": [],
   "source": [
    "print(s_num)\n",
    "print(\"\")\n",
    "\n",
    "print(s_num[2])"
   ]
  },
  {
   "cell_type": "code",
   "execution_count": null,
   "id": "0a42b5da",
   "metadata": {},
   "outputs": [],
   "source": [
    "print(s_fruit)\n",
    "print(\"\")\n",
    "\n",
    "print(pd.Series(s_fruit[1] , ['B']))\n",
    "print(\"\")\n",
    "\n",
    "print(\"A capital da frança é:\" , cap.loc[\"França\"])\n",
    "print(\"\")\n",
    "\n",
    "print(s_num[0 : 2])"
   ]
  },
  {
   "cell_type": "markdown",
   "id": "577d2f98",
   "metadata": {},
   "source": [
    "# Descobrindo o valor Máximo e minimo"
   ]
  },
  {
   "cell_type": "code",
   "execution_count": null,
   "id": "b7d7bd11",
   "metadata": {},
   "outputs": [],
   "source": [
    "serie = pd.Series([5 , 7 , 12 , 2 , 1 , 6 , 7 , 0 , -3 , 22])"
   ]
  },
  {
   "cell_type": "code",
   "execution_count": null,
   "id": "49f05752",
   "metadata": {},
   "outputs": [],
   "source": [
    "print(serie)\n"
   ]
  },
  {
   "cell_type": "code",
   "execution_count": null,
   "id": "c6216b85",
   "metadata": {},
   "outputs": [],
   "source": [
    "\n",
    "print(\"O menor valor é:\" , serie.min())\n",
    "print(\"O maior valor é:\" , serie.max())"
   ]
  },
  {
   "cell_type": "code",
   "execution_count": null,
   "id": "6b59476c",
   "metadata": {},
   "outputs": [],
   "source": [
    "print(\"o Indice do menor valor é:\" , serie.idxmin())\n",
    "print(\"o Indice do maior valor é:\" , serie.idxmax())"
   ]
  },
  {
   "cell_type": "code",
   "execution_count": null,
   "id": "5e8164ab",
   "metadata": {},
   "outputs": [],
   "source": [
    "# Funções de Estatisticas Descritiva\n",
    "\n",
    "print(\"A media aritmética: \" , serie.mean())\n",
    "print(\"A mediana:\" , serie.median())\n",
    "\n",
    "print(\"Somatoria dos valores\" , serie.sum())"
   ]
  },
  {
   "cell_type": "code",
   "execution_count": null,
   "id": "38d631f9",
   "metadata": {},
   "outputs": [],
   "source": [
    "print(serie.head(2)) # A cabeça da Serie\n",
    "print(serie.tail(2)) # O final da serie"
   ]
  },
  {
   "cell_type": "code",
   "execution_count": 135,
   "id": "589a21d8",
   "metadata": {},
   "outputs": [
    {
     "name": "stdout",
     "output_type": "stream",
     "text": [
      "Argentina     3\n",
      "Brasil        5\n",
      "EUA           0\n",
      "Inglaterra    1\n",
      "dtype: int64\n"
     ]
    }
   ],
   "source": [
    "dic2 = {\n",
    "    'Brasil': 5 , \n",
    "    \"EUA\": 0 , \n",
    "    \"Inglaterra\": 1 , \n",
    "    \"Argentina\": 3\n",
    "}\n",
    "\n",
    "dad = pd.Series(dic2)\n",
    "\n",
    "print(dad.sort_index())"
   ]
  },
  {
   "cell_type": "code",
   "execution_count": 136,
   "id": "c9cc193f",
   "metadata": {},
   "outputs": [
    {
     "name": "stdout",
     "output_type": "stream",
     "text": [
      "EUA           0\n",
      "Inglaterra    1\n",
      "Argentina     3\n",
      "Brasil        5\n",
      "dtype: int64\n"
     ]
    }
   ],
   "source": [
    "print(dad.sort_values())"
   ]
  },
  {
   "cell_type": "code",
   "execution_count": 141,
   "id": "c3b3d026",
   "metadata": {},
   "outputs": [],
   "source": [
    "dados.to_excel(\"panilha.xlsx\" , index=False)"
   ]
  }
 ],
 "metadata": {
  "kernelspec": {
   "display_name": ".venv",
   "language": "python",
   "name": "python3"
  },
  "language_info": {
   "codemirror_mode": {
    "name": "ipython",
    "version": 3
   },
   "file_extension": ".py",
   "mimetype": "text/x-python",
   "name": "python",
   "nbconvert_exporter": "python",
   "pygments_lexer": "ipython3",
   "version": "3.13.2"
  }
 },
 "nbformat": 4,
 "nbformat_minor": 5
}
