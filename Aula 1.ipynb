{
 "cells": [
  {
   "cell_type": "code",
   "execution_count": 2,
   "id": "51b74305-f3b3-4098-a3e2-341e2357365b",
   "metadata": {},
   "outputs": [],
   "source": [
    "# Python : Variaveis e Tipos de Dados\n",
    "### Caderno da Aula do dia 03/04"
   ]
  },
  {
   "cell_type": "code",
   "execution_count": 3,
   "id": "52d8e270-7227-4e74-b010-1a3f2a63fbe5",
   "metadata": {},
   "outputs": [
    {
     "name": "stdout",
     "output_type": "stream",
     "text": [
      "Estou usanso o Jupyter LAB\n",
      "Olá Mundo\n"
     ]
    }
   ],
   "source": [
    "print(\"Estou usanso o Jupyter LAB\")\n",
    "print(\"Olá Mundo\")"
   ]
  },
  {
   "cell_type": "markdown",
   "id": "172ee6dd-b30f-4808-bf38-7dd5ef3c30fd",
   "metadata": {},
   "source": [
    "### Desafio 1\n",
    "\n",
    "escreva um Programa, que pergunte o nome completo e cumprimente pelo primeiro nome"
   ]
  },
  {
   "cell_type": "code",
   "execution_count": 4,
   "id": "2bc07c52-bc40-45d9-924a-d5c0453c8c5d",
   "metadata": {},
   "outputs": [
    {
     "name": "stdout",
     "output_type": "stream",
     "text": [
      "olá felipe Bem vindo ao senai\n"
     ]
    }
   ],
   "source": [
    "nome = input(\"Digite seu nome: \")\n",
    "sobre = input(\"Digite o seu sobrenome: \")\n",
    "\n",
    "print(\"olá\", nome, \"Bem vindo ao senai\")"
   ]
  },
  {
   "cell_type": "markdown",
   "id": "207c5ad0-9c8d-4761-8d30-b9e4a3bf1866",
   "metadata": {},
   "source": [
    "# Desafio 2"
   ]
  },
  {
   "cell_type": "code",
   "execution_count": 5,
   "id": "53834b68-b174-4cc4-b602-ed71d2359e7d",
   "metadata": {},
   "outputs": [
    {
     "name": "stdout",
     "output_type": "stream",
     "text": [
      "Bem vindo a Calculadora de IMC\n",
      "Calculando\n",
      "=====\n",
      "Seu imc é 24.34\n",
      "Você está no peso ideal\n"
     ]
    }
   ],
   "source": [
    "import time\n",
    "\n",
    "print ('Bem vindo a Calculadora de IMC')\n",
    "altura = float (input ('Por favor, insira sua Altura'))\n",
    "peso = float (input ('Por favor, insira seu peso'))\n",
    "imc = peso / altura **2\n",
    "\n",
    "print ('Calculando')\n",
    "print ('='*5)\n",
    "time.sleep(1)\n",
    "\n",
    "print ('Seu imc é {:.2f}'.format(imc))\n",
    "\n",
    "if imc<18.5:\n",
    "    print(\"Você está abaixo do peso ideal\")\n",
    "elif imc>18.5 and imc<24.9:\n",
    "    print(\"Você está no peso ideal\")\n",
    "elif imc>25 and imc<29.9:\n",
    "    print(\"Você está com exesso de peso\")\n",
    "elif imc>30 and imc<35:\n",
    "    print(\"Você está com obesidade\")\n",
    "elif imc>35:\n",
    "    print(\"Obesidade morbida\")"
   ]
  },
  {
   "cell_type": "code",
   "execution_count": null,
   "id": "8ff1e684-7505-4859-8ef3-b8d6455badf2",
   "metadata": {},
   "outputs": [],
   "source": []
  }
 ],
 "metadata": {
  "kernelspec": {
   "display_name": "venv",
   "language": "python",
   "name": "python3"
  },
  "language_info": {
   "codemirror_mode": {
    "name": "ipython",
    "version": 3
   },
   "file_extension": ".py",
   "mimetype": "text/x-python",
   "name": "python",
   "nbconvert_exporter": "python",
   "pygments_lexer": "ipython3",
   "version": "3.13.2"
  }
 },
 "nbformat": 4,
 "nbformat_minor": 5
}
