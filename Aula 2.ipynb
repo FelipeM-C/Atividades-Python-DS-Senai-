{
 "cells": [
  {
   "cell_type": "markdown",
   "id": "65e4c4b8-38e7-4983-9d26-a76a78427274",
   "metadata": {},
   "source": [
    "# Python : Variaveis e Tipos de Dados\n",
    "### Caderno da Aula do dia 07/04/2025"
   ]
  },
  {
   "cell_type": "markdown",
   "id": "63bfce12-db9a-40c1-ae53-84cabfc2d6c3",
   "metadata": {},
   "source": [
    "<h2>Desafio 3</h2>\n",
    "Fazer um programa para uma loja de tintas. A pessoa vai informar a área em m2 que deseja pintar, e o script vai calcular a quantidade de latas de tinta que a pessoa deve comprar e o valor. Considere que cada litro de tinta pinta 3m2 e que 1 lata contem 18L e que custa R$ 80,00 "
   ]
  },
  {
   "cell_type": "code",
   "execution_count": null,
   "id": "6a96701c-778b-424d-9902-6319aac3a66f",
   "metadata": {},
   "outputs": [],
   "source": [
    "area = int(input(\"Quantos M2 você presisa\"))\n",
    "\n",
    "lata = area//54\n",
    "tinta = area//3\n",
    "\n",
    "print(\"Você deve comprar\", lata, \"latas de tinta que contem\", tinta,\"litros de tinta\")\n",
    "\n",
    "calc2 = lata*80\n",
    "print(\"Você vai pagar\", \"R$\",calc2,)\n",
    "\n"
   ]
  },
  {
   "cell_type": "markdown",
   "id": "9b7bc8c6-a5eb-4ebf-9bd2-6a0ecccd4dfb",
   "metadata": {},
   "source": [
    "<h2>Desafio 4</h2>\n",
    "\n",
    "<p>Faça um programa que pergunte quanto você ganha por hoa e o numero de horas trabalhadas no mês. Calcule e mostre o valor do salario no referindo mês. sabendo que são descontando 11% para o imposto de renda, e para o INSS é 8% e 5% para o sindicato. Faça um programa que nos apresente: \n",
    "    salário bruto\n",
    "    quanto pagou de imposto de renda\n",
    "    quanto pagou de INSS \n",
    "    salário liquido</p>"
   ]
  },
  {
   "cell_type": "code",
   "execution_count": 9,
   "id": "da1cfc7b-0484-4ea9-b39d-d82d62b26d94",
   "metadata": {},
   "outputs": [
    {
     "name": "stdin",
     "output_type": "stream",
     "text": [
      "Quanto você ganha por hora? 10\n",
      "Quantas horas você trabalha por dia? 8\n"
     ]
    },
    {
     "name": "stdout",
     "output_type": "stream",
     "text": [
      "seu salario bruto é R$ 2400.0\n",
      "voce pagou R$ 264.0 para o imposto de renda\n",
      "Você pagou R$ -72.0 de INSS\n",
      "você pagou R$ 192.0 para o sindicato\n",
      "seu salario liquido é de R$ 2016.0\n"
     ]
    }
   ],
   "source": [
    "hora = float(input(\"Quanto você ganha por hora?\"))\n",
    "calc1 = hora*1\n",
    "\n",
    "dia = int(input(\"Quantas horas você trabalha por dia?\"))\n",
    "calc2 = dia*calc1\n",
    "\n",
    "mês = calc2*30\n",
    "(print(\"seu salario bruto é R$\",mês))\n",
    "\n",
    "imposto = 11/100*mês\n",
    "print(\"voce pagou R$\",imposto,\"para o imposto de renda\")\n",
    "\n",
    "INSS = 8/100*mês-(imposto)\n",
    "print(\"Você pagou R$\",INSS,\"de INSS\")\n",
    "\n",
    "sindicato = 5/100*mês-INSS\n",
    "print(\"você pagou R$\",sindicato,\"para o sindicato\")\n",
    "\n",
    "salario = mês-imposto-INSS-sindicato\n",
    "print(\"seu salario liquido é de R$\",salario)"
   ]
  },
  {
   "cell_type": "code",
   "execution_count": null,
   "id": "e4d6aa31-f0c8-471c-bea3-a6d5cbccf419",
   "metadata": {},
   "outputs": [],
   "source": []
  }
 ],
 "metadata": {
  "kernelspec": {
   "display_name": "Python 3 (ipykernel)",
   "language": "python",
   "name": "python3"
  },
  "language_info": {
   "codemirror_mode": {
    "name": "ipython",
    "version": 3
   },
   "file_extension": ".py",
   "mimetype": "text/x-python",
   "name": "python",
   "nbconvert_exporter": "python",
   "pygments_lexer": "ipython3",
   "version": "3.13.2"
  }
 },
 "nbformat": 4,
 "nbformat_minor": 5
}
