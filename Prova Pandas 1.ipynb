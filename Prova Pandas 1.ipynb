{
 "cells": [
  {
   "cell_type": "markdown",
   "id": "3014724c",
   "metadata": {},
   "source": [
    "## Desafio : Series do Pandas\n",
    "\n",
    "Em Python: Dicionário é um coleção de pares Chave-Valor: \n",
    "Eles armazenam dados em pares, onde cada valor é associado a uma chave única.\n",
    "\n",
    "Sintaxe: São definidos usando chaves `{}` com os pares chave: valor separados por vírgulas."
   ]
  },
  {
   "cell_type": "markdown",
   "id": "35079a55",
   "metadata": {},
   "source": [
    "<img src=\"https://raw.githubusercontent.com/the-akira/Python-Iluminado/master/Imagens/Dictionary.png\" alt=\"Diagrama Dicionário\">"
   ]
  },
  {
   "cell_type": "markdown",
   "id": "cd1049be",
   "metadata": {},
   "source": [
    "Certifique-se de que a biblioteca `pandas` está instalada no seu ambiente. Caso ainda não tenha instalado, utilize o comando abaixo:\n",
    "\n",
    "```python\n",
    "!pip install pandas \n",
    "```\n",
    "\n",
    "Crie um dicionário contendo os pares de chave e valor dos paises da União Européia. Em seguida, utilize esse dicionário para criar uma Series chamada` populacao_ue` use  `pd.Series()`\n",
    "\n",
    "```\n",
    "Austria : 9006398\n",
    "Alemanha : 83289318\n",
    "Bélgica : 11589623\n",
    "Bulgária : 7000039\n",
    "Chipre : 1207361\n",
    "Croácia : 4076246\n",
    "Dinamarca : 5806015\n",
    "Eslováquia : 5459642\n",
    "Eslovênia : 2095861\n",
    "Espanha : 47351567\n",
    "Estônia : 1324820\n",
    "Finlândia : 5523231\n",
    "França : 66977107\n",
    "Grécia : 10423056\n",
    "Hungria : 9775564\n",
    "Irlanda : 4882495\n",
    "Itália : 60233948\n",
    "Letônia : 1906743\n",
    "Lituânia : 2793471\n",
    "Luxemburgo : 613894\n",
    "Malta : 493559\n",
    "Países Baixos : 17134872\n",
    "Polônia : 37974750\n",
    "Portugal : 10286263\n",
    "República Tcheca : 10693939\n",
    "Romênia : 19405156\n",
    "Suécia : 10106005\n",
    "```\n",
    "\n",
    "Use a Series `populacao_ue`, criada anteriormente, para resolver os próximos exercícios. A seguir, você encontrará exemplos de código e as respectivas soluções.\n",
    "\n",
    "\n",
    "````- Exiba a lista de países da União Europeia em ordem alfabética.``\n",
    "- Calcule e exiba a média da população dos países da União Europeia, formatando o resultado com duas casas decimais.\n",
    "\n",
    "- Qual é a mediana da população dos países da UE?\n",
    "\n",
    "- Qual é o desvio padrão da população?\n",
    "\n",
    "- Identifique e mostre o país com a maior população na União Europeia.\n",
    "\n",
    "- Calcule e exiba a população total da União Europeia.\n",
    "\n",
    "- Calcule e mostre a porcentagem que a população da Espanha representa em relação à população total da União Europeia.\n",
    "\n",
    "- Ordene a Series em ordem decrescente de população e exiba os cinco países mais populosos.\n",
    "\n",
    "- Crie uma nova Series contendo apenas os dados de população da França, Alemanha e Croácia, e calcule a média entre elas.\n",
    "\n",
    "\n"
   ]
  },
  {
   "cell_type": "code",
   "execution_count": 90,
   "id": "eb10aaf7",
   "metadata": {},
   "outputs": [],
   "source": [
    "import pandas as pd\n",
    "\n",
    "pop_ue = {\n",
    "    'ustria' : 9006398,\n",
    "    'Alemanha' : 83289318,\n",
    "    'Bélgica' : 11589623,\n",
    "    'Bulgária' : 7000039,\n",
    "    'Chipre' : 1207361,\n",
    "    'Croácia' : 4076246,\n",
    "    'Dinamarca' : 5806015,\n",
    "    'Eslováquia' : 5459642,\n",
    "    'Eslovênia' : 2095861,\n",
    "    'Espanha' : 47351567,\n",
    "    'Estônia' : 1324820,\n",
    "    'Finlândia' : 5523231,\n",
    "    'França' : 66977107,\n",
    "    'Grécia' : 10423056,\n",
    "    'Hungria' : 9775564,\n",
    "    'Irlanda' : 4882495,\n",
    "    'Itália' : 60233948,\n",
    "    'Letônia' : 1906743,\n",
    "    'Lituânia' : 2793471,\n",
    "    'Luxemburgo' : 613894,\n",
    "    'Malta' : 493559,\n",
    "    'Países Baixos' : 17134872,\n",
    "    'Polônia' : 37974750,\n",
    "    'Portugal' : 10286263,\n",
    "    'República Tcheca' : 10693939,\n",
    "    'Romênia' : 19405156,\n",
    "    'Suécia' : 10106005,\n",
    "}"
   ]
  },
  {
   "cell_type": "code",
   "execution_count": 91,
   "id": "5477b3c3",
   "metadata": {},
   "outputs": [
    {
     "name": "stdout",
     "output_type": "stream",
     "text": [
      "A população da França:  66977107\n"
     ]
    }
   ],
   "source": [
    "pais = pd.Series(pop_ue)\n",
    "\n",
    "print(\"A população da França: \" , pais.loc['França'])"
   ]
  },
  {
   "cell_type": "code",
   "execution_count": 92,
   "id": "f536f7d0",
   "metadata": {},
   "outputs": [
    {
     "name": "stdout",
     "output_type": "stream",
     "text": [
      "Alemanha            83289318\n",
      "Bulgária             7000039\n",
      "Bélgica             11589623\n",
      "Chipre               1207361\n",
      "Croácia              4076246\n",
      "Dinamarca            5806015\n",
      "Eslováquia           5459642\n",
      "Eslovênia            2095861\n",
      "Espanha             47351567\n",
      "Estônia              1324820\n",
      "Finlândia            5523231\n",
      "França              66977107\n",
      "Grécia              10423056\n",
      "Hungria              9775564\n",
      "Irlanda              4882495\n",
      "Itália              60233948\n",
      "Letônia              1906743\n",
      "Lituânia             2793471\n",
      "Luxemburgo            613894\n",
      "Malta                 493559\n",
      "Países Baixos       17134872\n",
      "Polônia             37974750\n",
      "Portugal            10286263\n",
      "República Tcheca    10693939\n",
      "Romênia             19405156\n",
      "Suécia              10106005\n",
      "ustria               9006398\n",
      "dtype: int64\n"
     ]
    }
   ],
   "source": [
    "Fepop = pd.Series(pop_ue)\n",
    "\n",
    "print(pais.sort_index())"
   ]
  },
  {
   "cell_type": "code",
   "execution_count": null,
   "id": "828f2106",
   "metadata": {},
   "outputs": [],
   "source": []
  },
  {
   "cell_type": "code",
   "execution_count": 93,
   "id": "e884a910",
   "metadata": {},
   "outputs": [
    {
     "name": "stdout",
     "output_type": "stream",
     "text": [
      "A média:  16571516.41\n"
     ]
    }
   ],
   "source": [
    "med = (pais.mean())\n",
    "print(f\"A média:  {med:.2f}\")"
   ]
  },
  {
   "cell_type": "code",
   "execution_count": 94,
   "id": "fe4c6fa6",
   "metadata": {},
   "outputs": [
    {
     "name": "stdout",
     "output_type": "stream",
     "text": [
      "A mediana:  9006398.0\n"
     ]
    }
   ],
   "source": [
    "medi = pais.median()\n",
    "\n",
    "print(\"A mediana: \" , medi)"
   ]
  },
  {
   "cell_type": "code",
   "execution_count": null,
   "id": "153b632f",
   "metadata": {},
   "outputs": [],
   "source": []
  },
  {
   "cell_type": "code",
   "execution_count": 95,
   "id": "22568f38",
   "metadata": {},
   "outputs": [
    {
     "name": "stdout",
     "output_type": "stream",
     "text": [
      "O maior valor:  Alemanha 83289318\n"
     ]
    }
   ],
   "source": [
    "mapop = pais.max()\n",
    "mmap = pais.idxmax()\n",
    "\n",
    "print(\"O maior valor: \" , mmap , mapop)"
   ]
  },
  {
   "cell_type": "code",
   "execution_count": 96,
   "id": "2374c4ab",
   "metadata": {},
   "outputs": [
    {
     "name": "stdout",
     "output_type": "stream",
     "text": [
      "A população total:  447430943\n"
     ]
    }
   ],
   "source": [
    "popmax = pais.sum()\n",
    "\n",
    "print(\"A população total: \" , popmax)"
   ]
  },
  {
   "cell_type": "code",
   "execution_count": 97,
   "id": "054218c5",
   "metadata": {},
   "outputs": [
    {
     "name": "stdout",
     "output_type": "stream",
     "text": [
      "A população da espanha corresponde:  10.582988892656894\n"
     ]
    }
   ],
   "source": [
    "porc = (47351567*100)/447430943\n",
    "\n",
    "print(\"A população da espanha corresponde: \" , porc)"
   ]
  },
  {
   "cell_type": "code",
   "execution_count": 105,
   "id": "db66a41b",
   "metadata": {},
   "outputs": [
    {
     "name": "stdout",
     "output_type": "stream",
     "text": [
      "ustria               9006398\n",
      "Suécia              10106005\n",
      "Romênia             19405156\n",
      "República Tcheca    10693939\n",
      "Portugal            10286263\n",
      "Polônia             37974750\n",
      "Países Baixos       17134872\n",
      "Malta                 493559\n",
      "Luxemburgo            613894\n",
      "Lituânia             2793471\n",
      "Letônia              1906743\n",
      "Itália              60233948\n",
      "Irlanda              4882495\n",
      "Hungria              9775564\n",
      "Grécia              10423056\n",
      "França              66977107\n",
      "Finlândia            5523231\n",
      "Estônia              1324820\n",
      "Espanha             47351567\n",
      "Eslovênia            2095861\n",
      "Eslováquia           5459642\n",
      "Dinamarca            5806015\n",
      "Croácia              4076246\n",
      "Chipre               1207361\n",
      "Bélgica             11589623\n",
      "Bulgária             7000039\n",
      "Alemanha            83289318\n",
      "dtype: int64\n",
      "ustria               9006398\n",
      "Suécia              10106005\n",
      "Romênia             19405156\n",
      "República Tcheca    10693939\n",
      "Portugal            10286263\n",
      "dtype: int64\n"
     ]
    }
   ],
   "source": [
    "\n",
    "ordd = pais.sort_index(ascending=False)\n",
    "print(ordd)\n",
    "\n",
    "print(ordd.head(5))"
   ]
  },
  {
   "cell_type": "code",
   "execution_count": 99,
   "id": "2a0662fd",
   "metadata": {},
   "outputs": [
    {
     "name": "stdout",
     "output_type": "stream",
     "text": [
      "O desvio padrão:  22305620.246587094\n"
     ]
    }
   ],
   "source": [
    "\n",
    "desd = pais.std()\n",
    "\n",
    "print(\"O desvio padrão: \" , desd)"
   ]
  },
  {
   "cell_type": "code",
   "execution_count": 100,
   "id": "69849f7a",
   "metadata": {},
   "outputs": [
    {
     "name": "stdout",
     "output_type": "stream",
     "text": [
      "Numero total de paizes:  27\n"
     ]
    }
   ],
   "source": [
    "elementos = pop_ue\n",
    "o = 0\n",
    "for i in elementos:\n",
    "    o += 1\n",
    "\n",
    "\n",
    "print(\"Numero total de paizes: \" , o)"
   ]
  },
  {
   "cell_type": "code",
   "execution_count": null,
   "id": "14ef0f54",
   "metadata": {},
   "outputs": [
    {
     "name": "stdout",
     "output_type": "stream",
     "text": [
      "51447557.0\n"
     ]
    }
   ],
   "source": [
    "nova = (pais.França + pais.Alemanha + pais.Croácia) / 3\n",
    "\n",
    "print(nova)"
   ]
  }
 ],
 "metadata": {
  "kernelspec": {
   "display_name": ".venv",
   "language": "python",
   "name": "python3"
  },
  "language_info": {
   "codemirror_mode": {
    "name": "ipython",
    "version": 3
   },
   "file_extension": ".py",
   "mimetype": "text/x-python",
   "name": "python",
   "nbconvert_exporter": "python",
   "pygments_lexer": "ipython3",
   "version": "3.13.2"
  }
 },
 "nbformat": 4,
 "nbformat_minor": 5
}
