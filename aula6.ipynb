{
 "cells": [
  {
   "cell_type": "markdown",
   "id": "b05d0784",
   "metadata": {},
   "source": [
    "# Listas\n",
    "\n",
    "- Criação de Listas e Acesso aos Elementos\n",
    "- Alteração da Lista\n",
    "- Funções, Operadores e Metódos"
   ]
  },
  {
   "cell_type": "markdown",
   "id": "cd13b34b",
   "metadata": {},
   "source": [
    "Em Python, uma lista (list) é um a sequência ordernada de valores, e que são identificados por um indice.\n",
    "Estes valores, que compõe uma lista, são chamados de elementos ou itens.\n",
    "\n",
    "Listas são estruturas de dados muitos similares a string, que por sua vez são sequência de caracteres, apenas.\n",
    "\n",
    "A Diferença é que os elementos de uma lista podem ser de qualquer tipo, ou seja, podem ser homogêneos (todos os valores são do mesmo tipo) e heterogêneos(valores com tipos distintos).\n",
    "\n",
    "\n",
    "Diferentemene das strings, uma lista é tambem uma sequencia mutavel e dinâmica:\n",
    "\n",
    "- Alterar o Valor de um ou mais elementos\n",
    "- Os elementos podem ser adicionados, removidos, ou substituídos\n",
    "- A order dos elementos podem ser alterada.\n",
    "\n",
    "---"
   ]
  },
  {
   "cell_type": "markdown",
   "id": "9b8fe888",
   "metadata": {},
   "source": [
    "# Criação das listas e Acesso aos elementos\n",
    "\n",
    "## Criação de uma lista"
   ]
  },
  {
   "cell_type": "code",
   "execution_count": 25,
   "id": "4d72c817",
   "metadata": {},
   "outputs": [
    {
     "data": {
      "text/plain": [
       "list"
      ]
     },
     "execution_count": 25,
     "metadata": {},
     "output_type": "execute_result"
    }
   ],
   "source": [
    "lista = []\n",
    "lista \n",
    "type(lista)"
   ]
  },
  {
   "cell_type": "code",
   "execution_count": 26,
   "id": "265a71b2",
   "metadata": {},
   "outputs": [],
   "source": [
    "listadomercado = [\"ovo, farinha, leite, maça\"]"
   ]
  },
  {
   "cell_type": "code",
   "execution_count": 27,
   "id": "040487cf",
   "metadata": {},
   "outputs": [
    {
     "name": "stdout",
     "output_type": "stream",
     "text": [
      "['ovo, farinha, leite, maça']\n"
     ]
    }
   ],
   "source": [
    "print(listadomercado) # imprimindo a lista"
   ]
  },
  {
   "cell_type": "code",
   "execution_count": 28,
   "id": "1d75a91b",
   "metadata": {},
   "outputs": [],
   "source": [
    "listadomercado2 = ['ovos', 'farinha', 'leite', 'maças'] # criando outra lista"
   ]
  },
  {
   "cell_type": "code",
   "execution_count": 29,
   "id": "133824e8",
   "metadata": {},
   "outputs": [
    {
     "name": "stdout",
     "output_type": "stream",
     "text": [
      "['ovos', 'farinha', 'leite', 'maças']\n"
     ]
    }
   ],
   "source": [
    "print (listadomercado2)"
   ]
  },
  {
   "cell_type": "code",
   "execution_count": 30,
   "id": "8dd1ba7c",
   "metadata": {},
   "outputs": [],
   "source": [
    "lista3 = [12 , 100.0, 'Universidade']"
   ]
  },
  {
   "cell_type": "code",
   "execution_count": 31,
   "id": "f75e48fc",
   "metadata": {},
   "outputs": [],
   "source": [
    "item1 = lista3[0]\n",
    "item2 = lista3[1]\n",
    "item3 = lista3[2]"
   ]
  },
  {
   "cell_type": "code",
   "execution_count": 32,
   "id": "e14da5bf",
   "metadata": {},
   "outputs": [
    {
     "name": "stdout",
     "output_type": "stream",
     "text": [
      "12 100.0 Universidade\n",
      "<class 'int'>\n",
      "<class 'float'>\n",
      "<class 'str'>\n"
     ]
    }
   ],
   "source": [
    "print (item1, item2, item3)\n",
    "\n",
    "print(type(item1))\n",
    "print(type(item2))\n",
    "print(type(item3))"
   ]
  },
  {
   "cell_type": "markdown",
   "id": "b5e3db8f",
   "metadata": {},
   "source": [
    "# Atualizando um item da lista\n"
   ]
  },
  {
   "cell_type": "code",
   "execution_count": 33,
   "id": "742ec701",
   "metadata": {},
   "outputs": [
    {
     "data": {
      "text/plain": [
       "'leite'"
      ]
     },
     "execution_count": 33,
     "metadata": {},
     "output_type": "execute_result"
    }
   ],
   "source": [
    "listadomercado2[2]"
   ]
  },
  {
   "cell_type": "code",
   "execution_count": 34,
   "id": "c762c336",
   "metadata": {},
   "outputs": [],
   "source": [
    "listadomercado2[2] = \"chocolate\""
   ]
  },
  {
   "cell_type": "code",
   "execution_count": 35,
   "id": "1b43b70e",
   "metadata": {},
   "outputs": [
    {
     "data": {
      "text/plain": [
       "['ovos', 'farinha', 'chocolate', 'maças']"
      ]
     },
     "execution_count": 35,
     "metadata": {},
     "output_type": "execute_result"
    }
   ],
   "source": [
    "listadomercado2"
   ]
  },
  {
   "cell_type": "code",
   "execution_count": 36,
   "id": "9115ec2f",
   "metadata": {},
   "outputs": [],
   "source": [
    "del listadomercado2 [3]"
   ]
  },
  {
   "cell_type": "code",
   "execution_count": 37,
   "id": "2e5d0793",
   "metadata": {},
   "outputs": [
    {
     "data": {
      "text/plain": [
       "['ovos', 'farinha', 'chocolate']"
      ]
     },
     "execution_count": 37,
     "metadata": {},
     "output_type": "execute_result"
    }
   ],
   "source": [
    "listadomercado2"
   ]
  },
  {
   "cell_type": "markdown",
   "id": "594ed563",
   "metadata": {},
   "source": [
    "# Funções, Operadores e Metódos\n",
    "\n",
    "## Listas de Listas (Linhas Aninhadas)"
   ]
  },
  {
   "cell_type": "code",
   "execution_count": 38,
   "id": "f23df6cf",
   "metadata": {},
   "outputs": [],
   "source": [
    "listas = [[1,2,3] , [10,15,14] , [10.1,8.7, 3]]"
   ]
  },
  {
   "cell_type": "code",
   "execution_count": 39,
   "id": "1491f939",
   "metadata": {},
   "outputs": [
    {
     "data": {
      "text/plain": [
       "[[1, 2, 3], [10, 15, 14], [10.1, 8.7, 3]]"
      ]
     },
     "execution_count": 39,
     "metadata": {},
     "output_type": "execute_result"
    }
   ],
   "source": [
    "listas"
   ]
  },
  {
   "cell_type": "code",
   "execution_count": 40,
   "id": "5be0939e",
   "metadata": {},
   "outputs": [],
   "source": [
    "a = listas[0]"
   ]
  },
  {
   "cell_type": "code",
   "execution_count": 41,
   "id": "8b8f2144",
   "metadata": {},
   "outputs": [
    {
     "data": {
      "text/plain": [
       "[1, 2, 3]"
      ]
     },
     "execution_count": 41,
     "metadata": {},
     "output_type": "execute_result"
    }
   ],
   "source": [
    "a"
   ]
  },
  {
   "cell_type": "code",
   "execution_count": 42,
   "id": "33276606",
   "metadata": {},
   "outputs": [],
   "source": [
    "b = a [0]"
   ]
  },
  {
   "cell_type": "code",
   "execution_count": 43,
   "id": "46bac5cb",
   "metadata": {},
   "outputs": [
    {
     "data": {
      "text/plain": [
       "1"
      ]
     },
     "execution_count": 43,
     "metadata": {},
     "output_type": "execute_result"
    }
   ],
   "source": [
    "b"
   ]
  },
  {
   "cell_type": "code",
   "execution_count": 44,
   "id": "915a57d7",
   "metadata": {},
   "outputs": [
    {
     "data": {
      "text/plain": [
       "[10.1, 8.7, 3]"
      ]
     },
     "execution_count": 44,
     "metadata": {},
     "output_type": "execute_result"
    }
   ],
   "source": [
    "c = listas [2]\n",
    "c"
   ]
  },
  {
   "cell_type": "code",
   "execution_count": 45,
   "id": "daf29928",
   "metadata": {},
   "outputs": [],
   "source": [
    "exemplo = ['um' , 'dois', None, 4]"
   ]
  },
  {
   "cell_type": "code",
   "execution_count": 46,
   "id": "ef27f7e1",
   "metadata": {},
   "outputs": [
    {
     "data": {
      "text/plain": [
       "['um', 'dois', None, 4]"
      ]
     },
     "execution_count": 46,
     "metadata": {},
     "output_type": "execute_result"
    }
   ],
   "source": [
    "exemplo"
   ]
  },
  {
   "cell_type": "markdown",
   "id": "8948913c",
   "metadata": {},
   "source": [
    "# Concatenando Listas"
   ]
  },
  {
   "cell_type": "code",
   "execution_count": 47,
   "id": "cf826b51",
   "metadata": {},
   "outputs": [
    {
     "name": "stdout",
     "output_type": "stream",
     "text": [
      "[34, 32, 56, 21, 90, 51]\n"
     ]
    }
   ],
   "source": [
    "lista_s1 = [34,32,56]\n",
    "lista_s1\n",
    "\n",
    "lista_s2 = [21,90,51]\n",
    "lista_s2\n",
    "\n",
    "lista_Total = lista_s1 + lista_s2\n",
    "print(lista_Total)"
   ]
  },
  {
   "cell_type": "code",
   "execution_count": 48,
   "id": "19eefb53",
   "metadata": {},
   "outputs": [
    {
     "name": "stdout",
     "output_type": "stream",
     "text": [
      "2\n",
      "True\n",
      "casa\n",
      "['a']\n"
     ]
    }
   ],
   "source": [
    "lista = [2, \"a\", 5.44, True, None, 'casa']\n",
    "print(lista [0])\n",
    "print(lista [3])\n",
    "print(lista[-1])\n",
    "\n",
    "print(lista[1:2])"
   ]
  },
  {
   "cell_type": "markdown",
   "id": "18576a6a",
   "metadata": {},
   "source": [
    "# Exercício: Operações basicas\n",
    "\n",
    "1. Crie uma lista chamada números contendo os múmeros 10, 20, 30, 40 e 50\n",
    "\n",
    "2. Acessar e imprimir o primeiro elemento e o ultimo elemento da lista usando indices\n",
    "\n",
    "3. Substituir o valor do terceiro elemento por 100 e imprimir a lista\n",
    "\n",
    "4. Adicionar o número 60 no final da lista, usando concatenação\n",
    "\n",
    "5. Crie uma nova lista chamada 'Novos_números' contendo os valores 70, 80 e 90 e concatenar com a lista numeros\n",
    "\n",
    "6. Imprimir o tamanho total da lista resultante (Usar loop)"
   ]
  },
  {
   "cell_type": "code",
   "execution_count": 49,
   "id": "5fb32b75",
   "metadata": {},
   "outputs": [
    {
     "name": "stdout",
     "output_type": "stream",
     "text": [
      "10\n",
      "50\n",
      "[10, 20, 30, 40, 50]\n",
      "[10, 20, 30, 40, 50, 60]\n",
      "[10, 20, 30, 40, 50, 60, 70, 85, 90]\n",
      "10\n",
      "20\n",
      "30\n",
      "40\n",
      "50\n",
      "60\n",
      "70\n",
      "85\n",
      "90\n",
      "10 Numeros pares\n",
      "20 Numeros pares\n",
      "30 Numeros pares\n",
      "40 Numeros pares\n",
      "50 Numeros pares\n",
      "60 Numeros pares\n",
      "70 Numeros pares\n",
      "85 Numeros impares:\n",
      "90 Numeros pares\n"
     ]
    }
   ],
   "source": [
    "numeros = [10, 20, 30, 40, 50]\n",
    "print(numeros [0])\n",
    "print(numeros [4])\n",
    "numeros[2] = 30\n",
    "print(numeros)\n",
    "con = [60]\n",
    "concca = numeros + con\n",
    "print(concca)\n",
    "\n",
    "\n",
    "novos_num = [70, 85, 90]\n",
    "\n",
    "concca2 = numeros + con + novos_num\n",
    "print(concca2)\n",
    "qtn = len(concca2)\n",
    "\n",
    "for i in range(qtn):\n",
    "    print(concca2[i])\n",
    "\n",
    "\n",
    "for i in range(qtn):\n",
    "    if (concca2[i]  %2 == 0):\n",
    "        print(concca2[i], \"Numeros pares\")\n",
    "\n",
    "    elif concca != 0:\n",
    "        print(concca2[i], \"Numeros impares:\")"
   ]
  },
  {
   "cell_type": "markdown",
   "id": "24a6e6f4",
   "metadata": {},
   "source": [
    "# Alteração de listas"
   ]
  },
  {
   "cell_type": "code",
   "execution_count": 50,
   "id": "aa288e52",
   "metadata": {},
   "outputs": [
    {
     "name": "stdout",
     "output_type": "stream",
     "text": [
      "[2, 'a', 'd', 'c', 5.44, True]\n",
      "[2, 'a', 'd', 'c', 5.44, True, 999]\n"
     ]
    }
   ],
   "source": [
    "lista = [2, 'a', 'd', 'c', 5.44, True]\n",
    "\n",
    "print(lista)\n",
    "\n",
    "lista.append(999)\n",
    "print(lista)"
   ]
  },
  {
   "cell_type": "code",
   "execution_count": 51,
   "id": "a76b1343",
   "metadata": {},
   "outputs": [
    {
     "name": "stdout",
     "output_type": "stream",
     "text": [
      "[2, 'd', 'c', 5.44, True, 999]\n"
     ]
    }
   ],
   "source": [
    "lista.remove('a')\n",
    "print(lista)"
   ]
  },
  {
   "cell_type": "code",
   "execution_count": 52,
   "id": "005a1b05",
   "metadata": {},
   "outputs": [
    {
     "name": "stdout",
     "output_type": "stream",
     "text": [
      "4\n",
      "60\n",
      "30\n"
     ]
    }
   ],
   "source": [
    "l1 = [30, 10, 20]\n",
    "l2 = [2, 'a', 5.44, True]\n",
    "\n",
    "#Funções Uteis\n",
    "\n",
    "print( len (l2)) #Retorna a quantidade de elementos dentro da lista\n",
    "print( sum (l1)) #Retorna a soma de elementos dentro da lista\n",
    "print( max (l1)) #Retorna o maior valor de elementos dentro da lista\n"
   ]
  },
  {
   "cell_type": "code",
   "execution_count": 65,
   "id": "e17b2fea",
   "metadata": {},
   "outputs": [
    {
     "name": "stdout",
     "output_type": "stream",
     "text": [
      "12\n",
      "[10, 10, 10, 10, 10, 10, 10, 10, 10, 10, 10, 10, 10, 20, 20, 20, 20, 20, 20, 20, 20, 20, 20, 20, 20, 20, 30, 30, 30, 30, 30, 30, 30, 30, 30, 30, 30, 30, 30, 40, 40, 40, 40, 40, 40, 40, 40, 40, 40, 40, 40, 10, 20, 30, 40]\n",
      "[10, 10, 10, 10, 10, 10, 10, 10, 10, 10, 10, 10, 10, 10, 20, 20, 20, 20, 20, 20, 20, 20, 20, 20, 20, 20, 20, 20, 30, 30, 30, 30, 30, 30, 30, 30, 30, 30, 30, 30, 30, 30, 40, 40, 40, 40, 40, 40, 40, 40, 40, 40, 40, 40, 40]\n",
      "['Novo valor']\n",
      "[]\n",
      "[]\n",
      "42\n",
      "14\n"
     ]
    }
   ],
   "source": [
    "#Metodos que alteram o valores internos da lista\n",
    "\n",
    "l2.reverse()\n",
    "print( 12 )\n",
    "\n",
    "l1.extend([10, 20, 30, 40]) #Adiciona elementos de outras sequencias\n",
    "print(l1)\n",
    "\n",
    "l1.sort() #Ordena os valores\n",
    "print(l1)\n",
    "\n",
    "l2.insert(2, 'Novo valor') #ADD um elemento a um indice específico\n",
    "print(l2)\n",
    "\n",
    "l2.pop() #Remove o ultimo elemento\n",
    "print(l2)\n",
    "\n",
    "l2.clear() #Limpa a lista\n",
    "print(l2)\n",
    "\n",
    "#Metodos que retorna valores e não alteram a lista\n",
    "\n",
    "print(l1.index(40)) #Retorna o indice da primeira ocorrencia\n",
    "\n",
    "print(l1.count(10)) #Conta os Valores da lista"
   ]
  }
 ],
 "metadata": {
  "kernelspec": {
   "display_name": "Python 3",
   "language": "python",
   "name": "python3"
  },
  "language_info": {
   "codemirror_mode": {
    "name": "ipython",
    "version": 3
   },
   "file_extension": ".py",
   "mimetype": "text/x-python",
   "name": "python",
   "nbconvert_exporter": "python",
   "pygments_lexer": "ipython3",
   "version": "3.13.2"
  }
 },
 "nbformat": 4,
 "nbformat_minor": 5
}
