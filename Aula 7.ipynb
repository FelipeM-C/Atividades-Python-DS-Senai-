{
 "cells": [
  {
   "cell_type": "markdown",
   "id": "3cfe4cbc",
   "metadata": {},
   "source": [
    "# Porque numpy?\n",
    "\n",
    "O numpy nos permite guardar dados e manipulalos no formato de *Matrizes*. Elas podem ser infinitamente dimensionais, por isso é importante que tenhamos a noção de como esses dados são guardados, para que possamos trabalhar com eles.\n",
    "\n",
    "## Qual a diferença de listas e matrizes numpy?\n",
    "\n",
    "Listas e numpy tem semelhnaças:\n",
    "- Insertion: podemos iserir os dados\n",
    "- Deletion: deletar os dados\n",
    "- appending: adicionar os dados\n",
    "- concatenation\n",
    "\n",
    "Porém o numpy tem algumas vantagens computacionais que aceleram o processo, até por usar funções matriciais. Além disso, é mais eficiente em termos de memória e velocidade, pois armazena os dados em um formato mais compacto e otimizado para operações matemáticas"
   ]
  },
  {
   "cell_type": "code",
   "execution_count": 1,
   "id": "dfbc9a99",
   "metadata": {},
   "outputs": [
    {
     "name": "stdout",
     "output_type": "stream",
     "text": [
      "Package                 Version\n",
      "----------------------- -----------\n",
      "asttokens               3.0.0\n",
      "colorama                0.4.6\n",
      "comm                    0.2.2\n",
      "debugpy                 1.8.14\n",
      "decorator               5.2.1\n",
      "executing               2.2.0\n",
      "ipykernel               6.29.5\n",
      "ipython                 9.1.0\n",
      "ipython_pygments_lexers 1.1.1\n",
      "jedi                    0.19.2\n",
      "jupyter_client          8.6.3\n",
      "jupyter_core            5.7.2\n",
      "matplotlib-inline       0.1.7\n",
      "nest-asyncio            1.6.0\n",
      "numpy                   2.2.4\n",
      "packaging               24.2\n",
      "parso                   0.8.4\n",
      "pip                     25.0.1\n",
      "platformdirs            4.3.7\n",
      "prompt_toolkit          3.0.51\n",
      "psutil                  7.0.0\n",
      "pure_eval               0.2.3\n",
      "Pygments                2.19.1\n",
      "python-dateutil         2.9.0.post0\n",
      "pywin32                 310\n",
      "pyzmq                   26.4.0\n",
      "six                     1.17.0\n",
      "stack-data              0.6.3\n",
      "tornado                 6.4.2\n",
      "traitlets               5.14.3\n",
      "wcwidth                 0.2.13\n",
      "Note: you may need to restart the kernel to use updated packages.\n"
     ]
    }
   ],
   "source": [
    "pip list\n"
   ]
  },
  {
   "cell_type": "code",
   "execution_count": 2,
   "id": "2b56e485",
   "metadata": {},
   "outputs": [],
   "source": [
    "import numpy as np"
   ]
  },
  {
   "cell_type": "code",
   "execution_count": null,
   "id": "cc1cbef9",
   "metadata": {},
   "outputs": [],
   "source": [
    "a = [1, 3, 5]\n",
    "b = [5, 4, 7]\n",
    "\n",
    "a*b"
   ]
  },
  {
   "cell_type": "markdown",
   "id": "08c7cc03",
   "metadata": {},
   "source": [
    "Mas com o numpy essa simples operação é possivel"
   ]
  },
  {
   "cell_type": "code",
   "execution_count": 3,
   "id": "1c3971f3",
   "metadata": {},
   "outputs": [
    {
     "data": {
      "text/plain": [
       "array([ 5, 12, 35])"
      ]
     },
     "execution_count": 3,
     "metadata": {},
     "output_type": "execute_result"
    }
   ],
   "source": [
    "a = np.array([1, 3, 5])\n",
    "b = np.array([5, 4, 7])\n",
    "\n",
    "a*b"
   ]
  },
  {
   "cell_type": "markdown",
   "id": "66009d75",
   "metadata": {},
   "source": [
    "# Aplicações no numpy\n",
    "\n",
    "- Machine Learning\n",
    "- Back-End\n",
    "- Matematica Cientifica "
   ]
  },
  {
   "cell_type": "markdown",
   "id": "db05c67e",
   "metadata": {},
   "source": [
    "# 1. Crie um array numpy com os numeros de 1 a 5 e imprima cada elemento usando um loop."
   ]
  },
  {
   "cell_type": "code",
   "execution_count": null,
   "id": "e321bdf4",
   "metadata": {},
   "outputs": [
    {
     "name": "stdout",
     "output_type": "stream",
     "text": [
      "1\n",
      "9\n",
      "3\n",
      "4\n",
      "5\n"
     ]
    }
   ],
   "source": [
    "import numpy as np\n",
    "\n",
    "a1 = np.array([1, 2, 3, 4, 5])\n",
    "\n",
    "for i in a1:\n",
    "    print(i)"
   ]
  },
  {
   "cell_type": "markdown",
   "id": "55902f0a",
   "metadata": {},
   "source": [
    "# 2. Crie um arrey numpy bidimensional (2x3) com os numeros de 1 a 6 e imprima todos os elementos, limha por linha, usando dois loops"
   ]
  },
  {
   "cell_type": "code",
   "execution_count": 48,
   "id": "6fe09224",
   "metadata": {},
   "outputs": [
    {
     "name": "stdout",
     "output_type": "stream",
     "text": [
      "123\n",
      "456\n"
     ]
    }
   ],
   "source": [
    "import numpy as np\n",
    "\n",
    "arise = np.array([[1, 2, 3],[4, 5, 6]])\n",
    "\n",
    "for i in range (2):\n",
    "    for j in range (3):\n",
    "        print(arise[i, j], end ='')\n",
    "    print()\n",
    "\n",
    "    "
   ]
  }
 ],
 "metadata": {
  "kernelspec": {
   "display_name": ".venv",
   "language": "python",
   "name": "python3"
  },
  "language_info": {
   "codemirror_mode": {
    "name": "ipython",
    "version": 3
   },
   "file_extension": ".py",
   "mimetype": "text/x-python",
   "name": "python",
   "nbconvert_exporter": "python",
   "pygments_lexer": "ipython3",
   "version": "3.13.2"
  }
 },
 "nbformat": 4,
 "nbformat_minor": 5
}
