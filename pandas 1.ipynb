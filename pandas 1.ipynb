{
 "cells": [
  {
   "cell_type": "markdown",
   "id": "b3d7e13c",
   "metadata": {},
   "source": [
    "# O que são pandas?\n",
    "\n",
    "A blibioteca Pandas se baseiam em duas estruturas de dados\n",
    "\n",
    "- Séries (Series) é uma estrutura de dados unidimencional  (1D) rotulada. Pode ser usada como uma coluna de uma tabela, um array numpy unidimencional com rótolos (Ímdices) ou uma coluna de um DataFrame.\n",
    "\n",
    "- **DataFrame: É a principal estruturas de dados do Pandas. Representa uma tabela bidimensional de  dados, onde as linhas geralmente representam as váriaveis."
   ]
  },
  {
   "cell_type": "code",
   "execution_count": 2,
   "id": "b7aa00d6",
   "metadata": {},
   "outputs": [
    {
     "name": "stdout",
     "output_type": "stream",
     "text": [
      "Name: pandas\n",
      "Version: 2.2.3\n",
      "Summary: Powerful data structures for data analysis, time series, and statistics\n",
      "Home-page: https://pandas.pydata.org\n",
      "Author: \n",
      "Author-email: The Pandas Development Team <pandas-dev@python.org>\n",
      "License: BSD 3-Clause License\n",
      "\n",
      "Copyright (c) 2008-2011, AQR Capital Management, LLC, Lambda Foundry, Inc. and PyData Development Team\n",
      "All rights reserved.\n",
      "\n",
      "Copyright (c) 2011-2023, Open source contributors.\n",
      "\n",
      "Redistribution and use in source and binary forms, with or without\n",
      "modification, are permitted provided that the following conditions are met:\n",
      "\n",
      "* Redistributions of source code must retain the above copyright notice, this\n",
      "  list of conditions and the following disclaimer.\n",
      "\n",
      "* Redistributions in binary form must reproduce the above copyright notice,\n",
      "  this list of conditions and the following disclaimer in the documentation\n",
      "  and/or other materials provided with the distribution.\n",
      "\n",
      "* Neither the name of the copyright holder nor the names of its\n",
      "  contributors may be used to endorse or promote products derived from\n",
      "  this software without specific prior written permission.\n",
      "\n",
      "THIS SOFTWARE IS PROVIDED BY THE COPYRIGHT HOLDERS AND CONTRIBUTORS \"AS IS\"\n",
      "AND ANY EXPRESS OR IMPLIED WARRANTIES, INCLUDING, BUT NOT LIMITED TO, THE\n",
      "IMPLIED WARRANTIES OF MERCHANTABILITY AND FITNESS FOR A PARTICULAR PURPOSE ARE\n",
      "DISCLAIMED. IN NO EVENT SHALL THE COPYRIGHT HOLDER OR CONTRIBUTORS BE LIABLE\n",
      "FOR ANY DIRECT, INDIRECT, INCIDENTAL, SPECIAL, EXEMPLARY, OR CONSEQUENTIAL\n",
      "DAMAGES (INCLUDING, BUT NOT LIMITED TO, PROCUREMENT OF SUBSTITUTE GOODS OR\n",
      "SERVICES; LOSS OF USE, DATA, OR PROFITS; OR BUSINESS INTERRUPTION) HOWEVER\n",
      "CAUSED AND ON ANY THEORY OF LIABILITY, WHETHER IN CONTRACT, STRICT LIABILITY,\n",
      "OR TORT (INCLUDING NEGLIGENCE OR OTHERWISE) ARISING IN ANY WAY OUT OF THE USE\n",
      "OF THIS SOFTWARE, EVEN IF ADVISED OF THE POSSIBILITY OF SUCH DAMAGE.\n",
      "Location: c:\\Users\\FIC-TI Especifico\\Documents\\felps\\.venv\\Lib\\site-packages\n",
      "Requires: numpy, python-dateutil, pytz, tzdata\n",
      "Required-by: \n"
     ]
    }
   ],
   "source": [
    "# Antes de iportar o modulo pandas, é nescessario instalar ele\n",
    "\n",
    "! pip show pandas"
   ]
  },
  {
   "cell_type": "code",
   "execution_count": 3,
   "id": "493f089f",
   "metadata": {},
   "outputs": [],
   "source": [
    "import pandas as pd\n",
    "import numpy as np"
   ]
  },
  {
   "cell_type": "markdown",
   "id": "0de6414d",
   "metadata": {},
   "source": [
    "# Criando uma série\n",
    "\n",
    "Criando objetos series vazio, invocando o método Series"
   ]
  },
  {
   "cell_type": "code",
   "execution_count": 4,
   "id": "1e0b66fe",
   "metadata": {},
   "outputs": [
    {
     "name": "stdout",
     "output_type": "stream",
     "text": [
      "Tipo: <class 'pandas.core.series.Series'>\n",
      "Series([], dtype: object)\n"
     ]
    }
   ],
   "source": [
    "# Objetos Séries vazio\n",
    "\n",
    "serie = pd.Series()\n",
    "\n",
    "print('Tipo:', type(serie))\n",
    "\n",
    "print(serie)"
   ]
  },
  {
   "cell_type": "markdown",
   "id": "f748c051",
   "metadata": {},
   "source": [
    "Podemos converter para uma série:\n",
    "\n",
    "- Listas\n",
    "- Numpy array\n",
    "- Dicionário"
   ]
  },
  {
   "cell_type": "code",
   "execution_count": 5,
   "id": "d704d51f",
   "metadata": {},
   "outputs": [],
   "source": [
    "labels = [\"A\", \"B\", \"C\"] #Lista de strings\n",
    "\n",
    "minha_lista = [10, 20, 30] # Lista de inteios\n",
    "\n",
    "arr = np.array([10 , 20 , 30]) #Array com numpy\n",
    "\n",
    "d = {\"A\" : 10, \"B\": 20, \"C\": 30} # Discionário com Chaves e Valores"
   ]
  },
  {
   "cell_type": "markdown",
   "id": "8fe8724c",
   "metadata": {},
   "source": [
    "# Usando listas"
   ]
  },
  {
   "cell_type": "code",
   "execution_count": 6,
   "id": "61c2d9ad",
   "metadata": {},
   "outputs": [
    {
     "data": {
      "text/plain": [
       "0    10\n",
       "1    20\n",
       "2    30\n",
       "dtype: int64"
      ]
     },
     "execution_count": 6,
     "metadata": {},
     "output_type": "execute_result"
    }
   ],
   "source": [
    "pd.Series(minha_lista)"
   ]
  },
  {
   "cell_type": "markdown",
   "id": "b5131cec",
   "metadata": {},
   "source": [
    "Com requencia prescisamos criar uma series com um indice, que vai identiicar cada ponto de um dado, com um rotulo.\n",
    "Neste caso passamos o parametro index = [] contendo uma lista de valores, que serão utilizadas como indice"
   ]
  },
  {
   "cell_type": "code",
   "execution_count": 7,
   "id": "5428a367",
   "metadata": {},
   "outputs": [
    {
     "name": "stdout",
     "output_type": "stream",
     "text": [
      "minha_lista é: [10, 20, 30]\n",
      "Meus rotulos: ['A', 'B', 'C']\n"
     ]
    },
    {
     "data": {
      "text/plain": [
       "A    10\n",
       "B    20\n",
       "C    30\n",
       "dtype: int64"
      ]
     },
     "execution_count": 7,
     "metadata": {},
     "output_type": "execute_result"
    }
   ],
   "source": [
    "print(\"minha_lista é:\", minha_lista)\n",
    "print('Meus rotulos:' , labels)\n",
    "\n",
    "pd.Series(data = minha_lista , index = labels)"
   ]
  },
  {
   "cell_type": "code",
   "execution_count": 8,
   "id": "f7686377",
   "metadata": {},
   "outputs": [
    {
     "data": {
      "text/plain": [
       "A    10\n",
       "B    20\n",
       "C    30\n",
       "dtype: int64"
      ]
     },
     "execution_count": 8,
     "metadata": {},
     "output_type": "execute_result"
    }
   ],
   "source": [
    "pd.Series(minha_lista , labels)"
   ]
  },
  {
   "cell_type": "code",
   "execution_count": 9,
   "id": "1f04eeb6",
   "metadata": {},
   "outputs": [
    {
     "name": "stdout",
     "output_type": "stream",
     "text": [
      "A    12\n",
      "B    34\n",
      "C    21\n",
      "D    -9\n",
      "E     0\n",
      "F     7\n",
      "dtype: int64\n"
     ]
    }
   ],
   "source": [
    "ind = pd.Series([12 , 34 , 21 , -9 , 0 , 7] , index = ['A' , 'B' , 'C' , 'D' , 'E' , 'F'])\n",
    "\n",
    "print(ind)"
   ]
  },
  {
   "cell_type": "markdown",
   "id": "86a76893",
   "metadata": {},
   "source": [
    "# Numpy array"
   ]
  },
  {
   "cell_type": "code",
   "execution_count": 10,
   "id": "2d1fc965",
   "metadata": {},
   "outputs": [
    {
     "name": "stdout",
     "output_type": "stream",
     "text": [
      "Meu Array é: [10 20 30]\n"
     ]
    },
    {
     "data": {
      "text/plain": [
       "0    10\n",
       "1    20\n",
       "2    30\n",
       "dtype: int64"
      ]
     },
     "execution_count": 10,
     "metadata": {},
     "output_type": "execute_result"
    }
   ],
   "source": [
    "print(\"Meu Array é:\" , arr)\n",
    "\n",
    "pd.Series(arr)"
   ]
  },
  {
   "cell_type": "code",
   "execution_count": 11,
   "id": "ba3a4f81",
   "metadata": {},
   "outputs": [
    {
     "name": "stdout",
     "output_type": "stream",
     "text": [
      "Meu array: [10 20 30]\n",
      "Meus rotulos são: ['A', 'B', 'C']\n"
     ]
    },
    {
     "data": {
      "text/plain": [
       "A    10\n",
       "B    20\n",
       "C    30\n",
       "dtype: int64"
      ]
     },
     "execution_count": 11,
     "metadata": {},
     "output_type": "execute_result"
    }
   ],
   "source": [
    "print(\"Meu array:\" , arr)\n",
    "print(\"Meus rotulos são:\" , labels)\n",
    "\n",
    "pd.Series(arr , labels)"
   ]
  },
  {
   "cell_type": "markdown",
   "id": "645fc3c8",
   "metadata": {},
   "source": [
    "# Dicionários"
   ]
  },
  {
   "cell_type": "code",
   "execution_count": 12,
   "id": "8b2a5031",
   "metadata": {},
   "outputs": [
    {
     "name": "stdout",
     "output_type": "stream",
     "text": [
      "Meu dicionário: {'A': 10, 'B': 20, 'C': 30}\n"
     ]
    },
    {
     "data": {
      "text/plain": [
       "A    10\n",
       "B    20\n",
       "C    30\n",
       "dtype: int64"
      ]
     },
     "execution_count": 12,
     "metadata": {},
     "output_type": "execute_result"
    }
   ],
   "source": [
    "print(\"Meu dicionário:\" , d)\n",
    "pd.Series(d)"
   ]
  },
  {
   "cell_type": "code",
   "execution_count": 13,
   "id": "d65c382b",
   "metadata": {},
   "outputs": [
    {
     "data": {
      "text/plain": [
       "Brasil        5\n",
       "EUA           0\n",
       "Inglaterra    1\n",
       "Argentina     3\n",
       "dtype: int64"
      ]
     },
     "execution_count": 13,
     "metadata": {},
     "output_type": "execute_result"
    }
   ],
   "source": [
    "dic = {\n",
    "    'Brasil': 5 , \n",
    "    \"EUA\": 0 , \n",
    "    \"Inglaterra\": 1 , \n",
    "    \"Argentina\": 3\n",
    "}\n",
    "\n",
    "pd.Series(dic)"
   ]
  },
  {
   "cell_type": "markdown",
   "id": "79f6e4ea",
   "metadata": {},
   "source": [
    "# Desafio 1\n",
    "\n",
    "- Crie uma série chamada s_num a partir de uma lista python 5, 10, 15, 20, 25. Imprima a série\n",
    "\n",
    "- Crie uma série chamada s_fruit apartir de uma lista maçã, banana, cereja, mas usem os indices A , B , C. e por fim imprima a série\n",
    "\n",
    "- Crie uma série chamada s_cap, a partir de um dicionário, Brasil : Brasilia , França : Paris , japão : Toquio. Imprima a série"
   ]
  },
  {
   "cell_type": "code",
   "execution_count": 14,
   "id": "b47db07c",
   "metadata": {},
   "outputs": [
    {
     "name": "stdout",
     "output_type": "stream",
     "text": [
      "A Lista de numeros: 0     5\n",
      "1    10\n",
      "2    15\n",
      "3    20\n",
      "4    25\n",
      "dtype: int64\n",
      "\n",
      "A lista de Frutas: A      maçã\n",
      "B    Banana\n",
      "C    Cereja\n",
      "dtype: object\n",
      "\n",
      "As capitais são: Brasil    Brasilia\n",
      "França       Paris\n",
      "japão       Toquio\n",
      "dtype: object\n",
      "\n"
     ]
    }
   ],
   "source": [
    "s_num = (5 , 10 , 15 , 20 , 25)\n",
    "s_fruit = (\"maçã\" , \"Banana\" , \"Cereja\")\n",
    "s_cap = {'Brasil' : 'Brasilia'\n",
    "          , 'França' : 'Paris' \n",
    "          , 'japão' : 'Toquio'}\n",
    "\n",
    "print(\"A Lista de numeros:\" , pd.Series(s_num))\n",
    "print(\"\")\n",
    "\n",
    "print(\"A lista de Frutas:\" , pd.Series(s_fruit , ['A' , 'B' , 'C']))\n",
    "print(\"\")\n",
    "\n",
    "print(\"As capitais são:\" , pd.Series(s_cap))\n",
    "print('')"
   ]
  },
  {
   "cell_type": "markdown",
   "id": "292bf8c9",
   "metadata": {},
   "source": [
    "# Valores e Índices\n",
    "\n",
    "A compreensão de índice é essencial para trabalhar eficientemente com uma série. No pandas, esses índices (Que podem ser numeros ou nomes) possibilitam a localzação rápida e prescisa dos dados desejados."
   ]
  },
  {
   "cell_type": "code",
   "execution_count": 15,
   "id": "cab5d6d5",
   "metadata": {},
   "outputs": [],
   "source": [
    "dados = pd.Series(dic)"
   ]
  },
  {
   "cell_type": "code",
   "execution_count": 16,
   "id": "c4b9335a",
   "metadata": {},
   "outputs": [
    {
     "name": "stdout",
     "output_type": "stream",
     "text": [
      "O que temos na série \n",
      "\n",
      "Brasil        5\n",
      "EUA           0\n",
      "Inglaterra    1\n",
      "Argentina     3\n",
      "dtype: int64\n",
      "\n",
      "Valores: [5 0 1 3]\n",
      "indices:  Index(['Brasil', 'EUA', 'Inglaterra', 'Argentina'], dtype='object')\n"
     ]
    }
   ],
   "source": [
    "print('O que temos na série \\n')\n",
    "print(dados)\n",
    "print()\n",
    "print('Valores:' , dados.values)\n",
    "print('indices: ' , dados.index)"
   ]
  },
  {
   "cell_type": "code",
   "execution_count": 17,
   "id": "0b08ff4f",
   "metadata": {},
   "outputs": [
    {
     "data": {
      "text/plain": [
       "np.int64(5)"
      ]
     },
     "execution_count": 17,
     "metadata": {},
     "output_type": "execute_result"
    }
   ],
   "source": [
    "dados.loc[\"Brasil\"]"
   ]
  }
 ],
 "metadata": {
  "kernelspec": {
   "display_name": ".venv",
   "language": "python",
   "name": "python3"
  },
  "language_info": {
   "codemirror_mode": {
    "name": "ipython",
    "version": 3
   },
   "file_extension": ".py",
   "mimetype": "text/x-python",
   "name": "python",
   "nbconvert_exporter": "python",
   "pygments_lexer": "ipython3",
   "version": "3.13.2"
  }
 },
 "nbformat": 4,
 "nbformat_minor": 5
}
